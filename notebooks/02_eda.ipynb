{
 "cells": [
  {
   "cell_type": "markdown",
   "id": "31130d41",
   "metadata": {},
   "source": [
    "### Top Postcode Prefixes in Bristol (2024)\n",
    "\n",
    "| Prefix | Count |\n",
    "|--------|-------|\n",
    "| BS16   | 70    |\n",
    "| BS34   | 53    |\n",
    "| BS37   | 46    |\n",
    "| BS5    | 46    |\n",
    "| BS6    | 43    |\n",
    "| BS10   | 40    |\n",
    "| BS15   | 38    |\n",
    "| BS4    | 37    |\n",
    "| BS20   | 36    |\n",
    "| BS14   | 34    | "
   ]
  }
 ],
 "metadata": {
  "language_info": {
   "name": "python"
  }
 },
 "nbformat": 4,
 "nbformat_minor": 5
}
